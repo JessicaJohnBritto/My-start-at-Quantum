{
 "cells": [
  {
   "cell_type": "code",
   "execution_count": 2,
   "id": "c3a35659",
   "metadata": {},
   "outputs": [],
   "source": [
    "import pennylane as qml\n",
    "from pennylane import numpy as np\n",
    "import matplotlib.pyplot as plt"
   ]
  },
  {
   "cell_type": "code",
   "execution_count": 7,
   "id": "04b2fba6",
   "metadata": {},
   "outputs": [
    {
     "data": {
      "text/plain": [
       "BasisStatePreparation([0, 0, 0, 0, 1], wires=[0, 1, 2, 3, 4])"
      ]
     },
     "execution_count": 7,
     "metadata": {},
     "output_type": "execute_result"
    }
   ],
   "source": [
    "# Basis State preparation for the two numbers\n",
    "def state_preparation(basis_id, n_qubits):\n",
    "    bits = [int(x) for x in np.binary_repr(basis_id, width=n_qubits)]\n",
    "    return qml.BasisStatePreparation(bits, wires=range(n_qubits))\n",
    "state_preparation(1,5)"
   ]
  },
  {
   "cell_type": "code",
   "execution_count": 154,
   "id": "7875936b",
   "metadata": {},
   "outputs": [
    {
     "name": "stdout",
     "output_type": "stream",
     "text": [
      "0 5 0\n",
      "0 4 1\n",
      "0 3 2\n",
      "1 5 0\n",
      "1 4 1\n",
      "2 5 0\n",
      "0: ─╭BasisStatePreparation(M1)──H─╭Rϕ(1.57)─╭Rϕ(0.79)─────────────────╭Rϕ(0.79)─╭Rϕ(1.57)─╭Rϕ(3.14)\n",
      "1: ─├BasisStatePreparation(M1)────╰●────────│──────────H─╭Rϕ(1.57)────│─────────│─────────│────────\n",
      "2: ─╰BasisStatePreparation(M1)──────────────╰●───────────╰●─────────H─│─────────│─────────│────────\n",
      "3: ─╭BasisStatePreparation(M0)────────────────────────────────────────│─────────│─────────╰●───────\n",
      "4: ─├BasisStatePreparation(M0)────────────────────────────────────────│─────────╰●─────────────────\n",
      "5: ─╰BasisStatePreparation(M0)────────────────────────────────────────╰●───────────────────────────\n",
      "\n",
      "───────────────────────────────────────────────────╭Rϕ(0.79)†─╭Rϕ(1.57)†──H†─┤ ╭Sample\n",
      "──╭Rϕ(0.79)─╭Rϕ(1.57)───────────────╭Rϕ(1.57)†──H†─│──────────╰●─────────────┤ ├Sample\n",
      "──│─────────│─────────╭Rϕ(0.79)──H†─╰●─────────────╰●────────────────────────┤ ╰Sample\n",
      "──│─────────│─────────│──────────────────────────────────────────────────────┤        \n",
      "──│─────────╰●────────│──────────────────────────────────────────────────────┤        \n",
      "──╰●──────────────────╰●─────────────────────────────────────────────────────┤        \n",
      "0 5 0\n",
      "0 4 1\n",
      "0 3 2\n",
      "1 5 0\n",
      "1 4 1\n",
      "2 5 0\n",
      "[[1 0 1]\n",
      " [0 1 1]\n",
      " [1 1 1]\n",
      " [1 0 1]\n",
      " [1 0 1]\n",
      " [1 1 1]\n",
      " [1 0 1]\n",
      " [1 1 1]\n",
      " [0 1 1]\n",
      " [1 0 1]]\n"
     ]
    }
   ],
   "source": [
    "# QFT \n",
    "dev = qml.device('default.qubit', wires=6, shots=10)\n",
    "\n",
    "def swap_bits(n_qubits):\n",
    "    \"\"\"A circuit that reverses the order of qubits, i.e.,\n",
    "    performs a SWAP such that [q1, q2, ..., qn] -> [qn, ... q2, q1].\n",
    "    \n",
    "    Args:\n",
    "        n_qubits (int): An integer value identifying the number of qubits.\n",
    "    \"\"\"\n",
    "    ##################\n",
    "    # YOUR CODE HERE #\n",
    "    ##################\n",
    "    # if n%2==0:\n",
    "    # j = \n",
    "    for i in range(int(n_qubits/2)):\n",
    "        qml.SWAP(wires=[i,n_qubits-1-i])\n",
    "    # pass\n",
    "\n",
    "def qft_rotations(n_qubits):\n",
    "    \"\"\"A circuit performs the QFT rotations on the specified qubits.\n",
    "    \n",
    "    Args:\n",
    "        n_qubits (int): An integer value identifying the number of qubits.\n",
    "    \"\"\"\n",
    "    \n",
    "    ##################\n",
    "    # YOUR CODE HERE #\n",
    "    ################## \n",
    "    n = n_qubits\n",
    "    for i in range(n):\n",
    "        # j=i+1\n",
    "        # print(\"test1\")\n",
    "        qml.Hadamard(wires=i)\n",
    "        for jj in range(i+1,n,1):\n",
    "            # print(\"test2\")\n",
    "            qml.ControlledPhaseShift(np.pi/(2**(jj-i)), wires=[jj,i])\n",
    "    pass\n",
    "    # return qml.state()\n",
    "\n",
    "@qml.qnode(dev) \n",
    "def qft_node(basis_id, basis_id2, n_qubits):\n",
    "    # Prepare the basis state |basis_id>\n",
    "    bits = [int(x) for x in np.binary_repr(basis_id, width=n_qubits)]\n",
    "    qml.BasisStatePreparation(bits, wires=range(n_qubits))\n",
    "    \n",
    "    bits2 = [int(x) for x in np.binary_repr(basis_id2, width=n_qubits)]\n",
    "    qml.BasisStatePreparation(bits2, wires=range(n_qubits, 2*(n_qubits),1))\n",
    "    \n",
    "#     swap_bits(n_qubits)\n",
    "    qft_rotations(n_qubits)\n",
    "#     swap_bits(n_qubits)\n",
    "#     qml.QFT(wires=range(n_qubits))\n",
    "#     for g in range(n_qubits, 2*n_qubits,1):\n",
    "#         k = (g-1)//2\n",
    "# #         print(g)\n",
    "#         for h in range(n_qubits):\n",
    "#             print(g,h)\n",
    "#             qml.ControlledPhaseShift((np.pi/(2**(n_qubits-1-h))), wires=[g,h])\n",
    "    for i in range(0,n_qubits,1):\n",
    "#         k=n_qubits-1\n",
    "        k=0\n",
    "#         for j in range(n_qubits,(2*n_qubits)-i,1):\n",
    "        for j in range((2*n_qubits)-1,n_qubits-1+i,-1):\n",
    "            print(i,j,k)\n",
    "            qml.ControlledPhaseShift((np.pi/(2**(n_qubits-k-1))), wires=[j,i])\n",
    "#             k-=1\n",
    "            k+=1\n",
    "            \n",
    "    (qml.adjoint)(qft_rotations)(n_qubits)\n",
    "#     swap_bits(n_qubits)\n",
    "    return qml.sample(wires=[x for x in range(n_qubits)])\n",
    "\n",
    "# print(qml.draw(qft_rotations)(3))\n",
    "print(qml.draw(qft_node)(3, 2,3))\n",
    "print(qft_node(3,2,3))"
   ]
  },
  {
   "cell_type": "code",
   "execution_count": null,
   "id": "292dba42",
   "metadata": {},
   "outputs": [],
   "source": []
  }
 ],
 "metadata": {
  "kernelspec": {
   "display_name": "Python 3 (ipykernel)",
   "language": "python",
   "name": "python3"
  },
  "language_info": {
   "codemirror_mode": {
    "name": "ipython",
    "version": 3
   },
   "file_extension": ".py",
   "mimetype": "text/x-python",
   "name": "python",
   "nbconvert_exporter": "python",
   "pygments_lexer": "ipython3",
   "version": "3.9.12"
  }
 },
 "nbformat": 4,
 "nbformat_minor": 5
}

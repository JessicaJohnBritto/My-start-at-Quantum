{
 "cells": [
  {
   "cell_type": "code",
   "execution_count": 2,
   "id": "c3a35659",
   "metadata": {},
   "outputs": [],
   "source": [
    "import pennylane as qml\n",
    "from pennylane import numpy as np\n",
    "import matplotlib.pyplot as plt"
   ]
  },
  {
   "cell_type": "code",
   "execution_count": 3,
   "id": "04b2fba6",
   "metadata": {},
   "outputs": [
    {
     "data": {
      "text/plain": [
       "BasisStatePreparation([0, 0, 0, 1, 1], wires=[0, 1, 2, 3, 4])"
      ]
     },
     "execution_count": 3,
     "metadata": {},
     "output_type": "execute_result"
    }
   ],
   "source": [
    "# Basis State preparation for the two numbers\n",
    "def state_preparation(basis_id, n_qubits):\n",
    "    bits = [int(x) for x in np.binary_repr(basis_id, width=n_qubits)]\n",
    "    return qml.BasisStatePreparation(bits, wires=range(n_qubits))\n",
    "state_preparation(3,5)"
   ]
  },
  {
   "cell_type": "code",
   "execution_count": 15,
   "id": "7875936b",
   "metadata": {},
   "outputs": [
    {
     "name": "stdout",
     "output_type": "stream",
     "text": [
      "3\n",
      "sample(wires=[0, 1, 2])\n"
     ]
    }
   ],
   "source": [
    "def swap_bits(n_qubits):\n",
    "    \"\"\"A circuit that reverses the order of qubits, i.e.,\n",
    "    performs a SWAP such that [q1, q2, ..., qn] -> [qn, ... q2, q1].\n",
    "    \n",
    "    Args:\n",
    "        n_qubits (int): An integer value identifying the number of qubits.\n",
    "    \"\"\"\n",
    "    for i in range(int(n_qubits/2)):\n",
    "        qml.SWAP(wires=[i,n_qubits-1-i])\n",
    "\n",
    "def qft_rotations(n_qubits):\n",
    "    \"\"\"A circuit performs the QFT rotations on the specified qubits.\n",
    "    \n",
    "    Args:\n",
    "        n_qubits (int): An integer value identifying the number of qubits.\n",
    "    \"\"\"\n",
    "    n = n_qubits\n",
    "    for i in range(n):\n",
    "        qml.Hadamard(wires=i)\n",
    "        for jj in range(i+1,n,1):\n",
    "            qml.ControlledPhaseShift(np.pi/(2**(jj-i)), wires=[jj,i])\n",
    "    pass\n",
    "\n",
    "def qft_node(basis_id, basis_id2):\n",
    "    s = basis_id + basis_id2\n",
    "    n_qubits = len(np.binary_repr(s))\n",
    "    print(n_qubits)\n",
    "    # Prepare the basis state |basis_id>\n",
    "    bits = [int(x) for x in np.binary_repr(basis_id, width=n_qubits)]\n",
    "    qml.BasisStatePreparation(bits, wires=range(n_qubits))\n",
    "    \n",
    "    bits2 = [int(x) for x in np.binary_repr(basis_id2, width=n_qubits)]\n",
    "    qml.BasisStatePreparation(bits2, wires=range(n_qubits, 2*(n_qubits),1))\n",
    "    \n",
    "    dev = qml.device('default.qubit', wires=(2*n_qubits), shots=10)\n",
    "    @qml.qnode(dev) \n",
    "    def adder():\n",
    "        qft_rotations(n_qubits)\n",
    "        for i in range(0,n_qubits,1):\n",
    "            k=0\n",
    "            for j in range(i+n_qubits,(2*n_qubits),1):\n",
    "                qml.ControlledPhaseShift((np.pi/(2**(k))), wires=[j,i])\n",
    "                k+=1\n",
    "        (qml.adjoint)(qft_rotations)(n_qubits)\n",
    "        qml.draw(adder)()\n",
    "    return qml.sample(wires=[x for x in range(n_qubits)])\n",
    "print(qft_node(3,2))"
   ]
  },
  {
   "cell_type": "code",
   "execution_count": null,
   "id": "8a646f68",
   "metadata": {},
   "outputs": [],
   "source": []
  }
 ],
 "metadata": {
  "kernelspec": {
   "display_name": "Python 3 (ipykernel)",
   "language": "python",
   "name": "python3"
  },
  "language_info": {
   "codemirror_mode": {
    "name": "ipython",
    "version": 3
   },
   "file_extension": ".py",
   "mimetype": "text/x-python",
   "name": "python",
   "nbconvert_exporter": "python",
   "pygments_lexer": "ipython3",
   "version": "3.9.12"
  }
 },
 "nbformat": 4,
 "nbformat_minor": 5
}

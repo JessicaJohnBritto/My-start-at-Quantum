{
 "cells": [
  {
   "cell_type": "code",
   "execution_count": 1,
   "id": "a0f9afa8",
   "metadata": {},
   "outputs": [
    {
     "name": "stdout",
     "output_type": "stream",
     "text": [
      "Collecting pennylane\n",
      "  Downloading PennyLane-0.26.0-py3-none-any.whl (1.0 MB)\n",
      "Requirement already satisfied: scipy in c:\\users\\barbi\\appdata\\roaming\\python\\python39\\site-packages (from pennylane) (1.8.1)\n",
      "Requirement already satisfied: appdirs in d:\\anacondafinal\\lib\\site-packages (from pennylane) (1.4.4)\n",
      "Requirement already satisfied: toml in d:\\anacondafinal\\lib\\site-packages (from pennylane) (0.10.2)\n",
      "Requirement already satisfied: retworkx in c:\\users\\barbi\\appdata\\roaming\\python\\python39\\site-packages (from pennylane) (0.11.0)\n",
      "Collecting semantic-version>=2.7\n",
      "  Downloading semantic_version-2.10.0-py2.py3-none-any.whl (15 kB)\n",
      "Collecting autoray>=0.3.1\n",
      "  Downloading autoray-0.3.2-py3-none-any.whl (36 kB)\n",
      "Requirement already satisfied: networkx in d:\\anacondafinal\\lib\\site-packages (from pennylane) (2.7.1)\n",
      "Requirement already satisfied: cachetools in d:\\anacondafinal\\lib\\site-packages (from pennylane) (4.2.2)\n",
      "Requirement already satisfied: numpy in c:\\users\\barbi\\appdata\\roaming\\python\\python39\\site-packages (from pennylane) (1.22.3)\n",
      "Collecting autograd\n",
      "  Downloading autograd-1.5-py3-none-any.whl (48 kB)\n",
      "Collecting pennylane-lightning>=0.26\n",
      "  Downloading PennyLane_Lightning-0.26.0-py3-none-any.whl (224 kB)\n",
      "Collecting ninja\n",
      "  Downloading ninja-1.10.2.4-py2.py3-none-win_amd64.whl (293 kB)\n",
      "Requirement already satisfied: future>=0.15.2 in d:\\anacondafinal\\lib\\site-packages (from autograd->pennylane) (0.18.2)\n",
      "Installing collected packages: ninja, semantic-version, pennylane-lightning, autoray, autograd, pennylane\n",
      "Successfully installed autograd-1.5 autoray-0.3.2 ninja-1.10.2.4 pennylane-0.26.0 pennylane-lightning-0.26.0 semantic-version-2.10.0\n",
      "Note: you may need to restart the kernel to use updated packages.\n"
     ]
    }
   ],
   "source": [
    "pip install pennylane"
   ]
  },
  {
   "cell_type": "code",
   "execution_count": 8,
   "id": "6c022a06",
   "metadata": {},
   "outputs": [],
   "source": [
    "import pennylane as qml\n",
    "from pennylane import numpy as np\n",
    "import matplotlib.pyplot as plt"
   ]
  },
  {
   "cell_type": "markdown",
   "id": "613beba6",
   "metadata": {},
   "source": [
    "# I.11"
   ]
  },
  {
   "cell_type": "code",
   "execution_count": 6,
   "id": "fcdcd146",
   "metadata": {},
   "outputs": [
    {
     "name": "stdout",
     "output_type": "stream",
     "text": [
      "[0, 1, 1]\n",
      "[0 1 2]\n",
      "Output state = [0.+0.j 0.+0.j 0.+0.j 1.+0.j 0.+0.j 0.+0.j 0.+0.j 0.+0.j]\n"
     ]
    }
   ],
   "source": [
    "dev = qml.device('default.qubit', wires=3)\n",
    "\n",
    "@qml.qnode(dev)\n",
    "def make_basis_state(basis_id):\n",
    "    \"\"\"Produce the 3-qubit basis state corresponding to |basis_id>.\n",
    "    \n",
    "    Note that the system starts in |000>.\n",
    "\n",
    "    Args:\n",
    "        basis_id (int): An integer value identifying the basis state to construct.\n",
    "        \n",
    "    Returns:\n",
    "        array[complex]: The computational basis state |basis_id>.\n",
    "    \"\"\"\n",
    "\n",
    "    ##################\n",
    "    # YOUR CODE HERE #\n",
    "    ##################\n",
    "\n",
    "    # CREATE THE BASIS STATE\n",
    "    k = np.binary_repr(basis_id, width = 3)\n",
    "    l = [int(x) for x in k]\n",
    "    print(l)\n",
    "    print(np.arange(3))\n",
    "    qml.BasisStatePreparation(l, wires=range(3))\n",
    "    return qml.state()\n",
    "\n",
    "\n",
    "basis_id = 3\n",
    "print(f\"Output state = {make_basis_state(basis_id)}\")"
   ]
  },
  {
   "cell_type": "code",
   "execution_count": 26,
   "id": "226a841c",
   "metadata": {},
   "outputs": [
    {
     "name": "stdout",
     "output_type": "stream",
     "text": [
      "[ 0. -1.]\n"
     ]
    }
   ],
   "source": [
    "# Creates a device with *two* qubits\n",
    "dev = qml.device('default.qubit', wires=2)\n",
    "\n",
    "@qml.qnode(dev)\n",
    "def two_qubit_circuit():\n",
    "    ##################\n",
    "    # YOUR CODE HERE #\n",
    "    ##################\n",
    "\n",
    "    # PREPARE |+>|1>\n",
    "    qml.Hadamard(wires=0)\n",
    "    qml.PauliX(wires=1)\n",
    "    # RETURN TWO EXPECTATION VALUES, Y ON FIRST QUBIT, Z ON SECOND QUBIT\n",
    "    k = qml.expval(qml.PauliY(wires=0))\n",
    "    m = qml.expval(qml.PauliZ(wires=1))\n",
    "    l  = [k,m]\n",
    "    return l\n",
    "\n",
    "\n",
    "print(two_qubit_circuit())\n"
   ]
  },
  {
   "cell_type": "code",
   "execution_count": 27,
   "id": "1edf1287",
   "metadata": {},
   "outputs": [
    {
     "name": "stdout",
     "output_type": "stream",
     "text": [
      "0.9999999999999996\n"
     ]
    }
   ],
   "source": [
    "dev = qml.device(\"default.qubit\", wires=2)\n",
    "\n",
    "@qml.qnode(dev)\n",
    "def create_one_minus():\n",
    "    ##################\n",
    "    # YOUR CODE HERE #\n",
    "    ##################\n",
    "\n",
    "    # PREPARE |1>|->\n",
    "    qml.PauliX(wires=0)\n",
    "    qml.PauliX(wires=1)\n",
    "    qml.Hadamard(wires=1)\n",
    "    # RETURN A SINGLE EXPECTATION VALUE Z \\otimes X\n",
    "    \n",
    "    return qml.expval(qml.PauliZ(0)@qml.PauliX(1))\n",
    "\n",
    "\n",
    "print(create_one_minus())\n"
   ]
  },
  {
   "cell_type": "code",
   "execution_count": 34,
   "id": "9b137bcf",
   "metadata": {},
   "outputs": [
    {
     "ename": "NameError",
     "evalue": "name 'plotter' is not defined",
     "output_type": "error",
     "traceback": [
      "\u001b[1;31m---------------------------------------------------------------------------\u001b[0m",
      "\u001b[1;31mNameError\u001b[0m                                 Traceback (most recent call last)",
      "Input \u001b[1;32mIn [34]\u001b[0m, in \u001b[0;36m<cell line: 80>\u001b[1;34m()\u001b[0m\n\u001b[0;32m     77\u001b[0m ZZ_results \u001b[38;5;241m=\u001b[39m np\u001b[38;5;241m.\u001b[39marray([circuit_2(t) \u001b[38;5;28;01mfor\u001b[39;00m t \u001b[38;5;129;01min\u001b[39;00m theta])\n\u001b[0;32m     79\u001b[0m \u001b[38;5;66;03m# Plot your results\u001b[39;00m\n\u001b[1;32m---> 80\u001b[0m plot \u001b[38;5;241m=\u001b[39m \u001b[43mplotter\u001b[49m(theta, ZI_results, IZ_results, ZZ_results, combined_results)\n",
      "\u001b[1;31mNameError\u001b[0m: name 'plotter' is not defined"
     ]
    }
   ],
   "source": [
    "dev = qml.device('default.qubit', wires=2)\n",
    "\n",
    "@qml.qnode(dev)\n",
    "def circuit_1(theta):\n",
    "    \"\"\"Implement the circuit and measure Z I and I Z.\n",
    "    \n",
    "    Args:\n",
    "        theta (float): a rotation angle.\n",
    "        \n",
    "    Returns:\n",
    "        float, float: The expectation values of the observables Z I, and I Z\n",
    "    \"\"\"\n",
    "    ##################\n",
    "    # YOUR CODE HERE #\n",
    "    ##################  \n",
    "    qml.RX(theta, wires=0)\n",
    "    qml.RY(2*theta, wires=1)\n",
    "\n",
    "    return qml.expval(qml.PauliZ(0)), qml.expval(qml.PauliZ(1))\n",
    "\n",
    "\n",
    "@qml.qnode(dev)\n",
    "def circuit_2(theta):\n",
    "    \"\"\"Implement the circuit and measure Z Z.\n",
    "    \n",
    "    Args:\n",
    "        theta (float): a rotation angle.\n",
    "        \n",
    "    Returns:\n",
    "        float: The expectation value of the observable Z Z\n",
    "    \"\"\" \n",
    "\n",
    "    ##################\n",
    "    # YOUR CODE HERE #\n",
    "    ##################  \n",
    "    qml.RX(theta, wires=0)\n",
    "    qml.RY(2*theta, wires=1)\n",
    "\n",
    "    return qml.expval(qml.PauliZ(0) @qml.PauliZ(1))\n",
    "\n",
    "\n",
    "\n",
    "def zi_iz_combination(ZI_results, IZ_results):\n",
    "    \"\"\"Implement a function that acts on the ZI and IZ results to\n",
    "    produce the ZZ results. How do you think they should combine?\n",
    "\n",
    "    Args:\n",
    "        ZI_results (array[float]): Results from the expectation value of \n",
    "            ZI in circuit_1.\n",
    "        IZ_results (array[float]): Results from the expectation value of \n",
    "            IZ in circuit_2.\n",
    "\n",
    "    Returns:\n",
    "        array[float]: A combination of ZI_results and IZ_results that \n",
    "        produces results equivalent to measuring ZZ.\n",
    "    \"\"\"\n",
    "\n",
    "    combined_results = np.zeros(len(ZI_results))\n",
    "\n",
    "    ##################\n",
    "    # YOUR CODE HERE #\n",
    "    ##################  \n",
    "\n",
    "    return ZI_results*IZ_results\n",
    "\n",
    " \n",
    "theta = np.linspace(0, 2 * np.pi, 100)\n",
    "\n",
    "# Run circuit 1, and process the results\n",
    "circuit_1_results = np.array([circuit_1(t) for t in theta])\n",
    "\n",
    "ZI_results = circuit_1_results[:, 0]\n",
    "IZ_results = circuit_1_results[:, 1]\n",
    "combined_results = zi_iz_combination(ZI_results, IZ_results)\n",
    "\n",
    "# Run circuit 2\n",
    "ZZ_results = np.array([circuit_2(t) for t in theta])\n",
    "\n",
    "# Plot your results\n",
    "plot = plotter(theta, ZI_results, IZ_results, ZZ_results, combined_results)\n"
   ]
  },
  {
   "cell_type": "markdown",
   "id": "efbb3b25",
   "metadata": {},
   "source": [
    "# I.12"
   ]
  },
  {
   "cell_type": "code",
   "execution_count": 9,
   "id": "96c94d47",
   "metadata": {},
   "outputs": [
    {
     "name": "stdout",
     "output_type": "stream",
     "text": [
      "[1.+0.j 0.+0.j 0.+0.j 0.+0.j]\n",
      "[0.+0.j 1.+0.j 0.+0.j 0.+0.j]\n",
      "[0.+0.j 0.+0.j 0.+0.j 1.+0.j]\n",
      "[0.+0.j 0.+0.j 1.+0.j 0.+0.j]\n"
     ]
    }
   ],
   "source": [
    "dev = qml.device('default.qubit', wires=2)\n",
    "\n",
    "@qml.qnode(dev)\n",
    "def apply_cnot(basis_id):\n",
    "    \"\"\"Apply a CNOT to |basis_id>.\n",
    "\n",
    "    Args:\n",
    "        basis_id (int): An integer value identifying the basis state to construct.\n",
    "      \n",
    "    Returns:\n",
    "        array[complex]: The resulting state after applying CNOT|basis_id>.\n",
    "    \"\"\"\n",
    "\n",
    "    # Prepare the basis state |basis_id>\n",
    "    bits = [int(x) for x in np.binary_repr(basis_id, width=dev.num_wires)]\n",
    "    qml.BasisStatePreparation(bits, wires=[0, 1])\n",
    "\n",
    "    ##################\n",
    "    # YOUR CODE HERE #\n",
    "    ##################\n",
    "\n",
    "    # APPLY THE CNOT\n",
    "    qml.CNOT(wires=[0,1])\n",
    "    return qml.state()\n",
    "\n",
    "\n",
    "##################\n",
    "# YOUR CODE HERE #\n",
    "##################\n",
    "\n",
    "\n",
    "# REPLACE THE BIT STRINGS VALUES BELOW WITH THE CORRECT ONES\n",
    "cnot_truth_table = {\n",
    "    \"00\" : \"00\",\n",
    "    \"01\" : \"01\",\n",
    "    \"10\" : \"11\",\n",
    "    \"11\" : \"10\"\n",
    "}\n",
    "\n",
    "\n",
    "# Run your QNode with various inputs to help fill in your truth table\n",
    "# for k in cnot_truth_table:\n",
    "for k in range(4):\n",
    "    print(apply_cnot(k))\n"
   ]
  },
  {
   "cell_type": "code",
   "execution_count": 10,
   "id": "257ed58c",
   "metadata": {},
   "outputs": [
    {
     "name": "stdout",
     "output_type": "stream",
     "text": [
      "[0.70710678+0.j 0.        +0.j 0.        +0.j 0.70710678+0.j]\n"
     ]
    }
   ],
   "source": [
    "dev = qml.device(\"default.qubit\", wires=2)\n",
    "\n",
    "@qml.qnode(dev)\n",
    "def apply_h_cnot():\n",
    "    ##################\n",
    "    # YOUR CODE HERE #\n",
    "    ##################\n",
    "\n",
    "    # APPLY THE OPERATIONS IN THE CIRCUIT\n",
    "    qml.Hadamard(wires=0)\n",
    "    qml.CNOT(wires=[0,1])\n",
    "    return qml.state()\n",
    "\n",
    "\n",
    "print(apply_h_cnot())\n",
    "\n",
    "##################\n",
    "# YOUR CODE HERE #\n",
    "##################\n",
    "\n",
    "# SET THIS AS 'separable' OR 'entangled' BASED ON YOUR OUTCOME\n",
    "state_status = \"entangled\"\n"
   ]
  },
  {
   "cell_type": "code",
   "execution_count": 11,
   "id": "51cb244f",
   "metadata": {},
   "outputs": [
    {
     "name": "stdout",
     "output_type": "stream",
     "text": [
      "[5.00000000e-01 0.00000000e+00 0.00000000e+00 0.00000000e+00\n",
      " 4.98751041e-01 0.00000000e+00 1.23651067e-03 1.24480103e-05]\n"
     ]
    }
   ],
   "source": [
    "dev = qml.device('default.qubit', wires=3)\n",
    "\n",
    "@qml.qnode(dev)\n",
    "def controlled_rotations(theta, phi, omega):\n",
    "    \"\"\"Implement the circuit above and return measurement outcome probabilities.\n",
    "\n",
    "    Args:\n",
    "        theta (float): A rotation angle\n",
    "        phi (float): A rotation angle\n",
    "        omega (float): A rotation angle\n",
    "\n",
    "    Returns:\n",
    "        array[float]: Measurement outcome probabilities of the 3-qubit \n",
    "        computational basis states.\n",
    "    \"\"\"\n",
    "    qml.Hadamard(wires=0)\n",
    "    qml.CRX(theta, wires=[0,1])\n",
    "    qml.CRY(phi, wires=[1,2])\n",
    "    qml.CRZ(omega, wires=[2,0])\n",
    "    ##################\n",
    "    # YOUR CODE HERE #\n",
    "    ##################\n",
    "\n",
    "    # APPLY THE OPERATIONS IN THE CIRCUIT AND RETURN MEASUREMENT PROBABILITIES\n",
    "\n",
    "    return qml.probs(wires=[0,1,2])\n",
    "\n",
    "theta, phi, omega = 0.1, 0.2, 0.3\n",
    "print(controlled_rotations(theta, phi, omega))\n"
   ]
  },
  {
   "cell_type": "markdown",
   "id": "e6d5b178",
   "metadata": {},
   "source": [
    "# I.13"
   ]
  },
  {
   "cell_type": "code",
   "execution_count": null,
   "id": "1fe0a8ac",
   "metadata": {},
   "outputs": [],
   "source": [
    "dev = qml.device(\"default.qubit\", wires=2)\n",
    "\n",
    "# Prepare a two-qubit state; change up the angles if you like\n",
    "phi, theta, omega = 1.2, 2.3, 3.4\n",
    "\n",
    "\n",
    "@qml.qnode(device=dev)\n",
    "def true_cz(phi, theta, omega):\n",
    "    prepare_states(phi, theta, omega)\n",
    "    \n",
    "    ##################\n",
    "    # YOUR CODE HERE #\n",
    "    ##################\n",
    "\n",
    "    # IMPLEMENT THE REGULAR CZ GATE HERE\n",
    "    qml.CZ(wires=[0,1])\n",
    "    return qml.state()\n",
    "\n",
    "\n",
    "@qml.qnode(dev)\n",
    "def imposter_cz(phi, theta, omega):\n",
    "    prepare_states(phi, theta, omega)\n",
    "    # qml.Hadamard(wires=0)\n",
    "    qml.Hadamard(wires=1)\n",
    "    qml.CNOT(wires=[0,1])\n",
    "    qml.Hadamard(wires=1)\n",
    "    # qml.Hadamard(wires=0)\n",
    "    ##################\n",
    "    # YOUR CODE HERE #\n",
    "    ##################\n",
    "\n",
    "    # IMPLEMENT CZ USING ONLY H AND CNOT\n",
    "    \n",
    "    return qml.state()\n",
    "\n",
    "\n",
    "print(f\"True CZ output state {true_cz(phi, theta, omega)}\")\n",
    "print(f\"Imposter CZ output state {imposter_cz(phi, theta, omega)}\")\n"
   ]
  },
  {
   "cell_type": "code",
   "execution_count": null,
   "id": "a78f96a2",
   "metadata": {},
   "outputs": [],
   "source": [
    "dev = qml.device(\"default.qubit\", wires=2)\n",
    "\n",
    "# Prepare a two-qubit state; change up the angles if you like\n",
    "phi, theta, omega = 1.2, 2.3, 3.4\n",
    "\n",
    "\n",
    "@qml.qnode(dev)\n",
    "def apply_swap(phi, theta, omega):\n",
    "    prepare_states(phi, theta, omega)\n",
    "\n",
    "    ##################\n",
    "    # YOUR CODE HERE #\n",
    "    ##################\n",
    "\n",
    "    # IMPLEMENT THE REGULAR SWAP GATE HERE\n",
    "    qml.SWAP(wires=[0,1])\n",
    "    return qml.state()\n",
    "\n",
    "\n",
    "@qml.qnode(dev)\n",
    "def apply_swap_with_cnots(phi, theta, omega):\n",
    "    prepare_states(phi, theta, omega)\n",
    "    \n",
    "    ##################\n",
    "    # YOUR CODE HERE #\n",
    "    ##################\n",
    "    qml.CNOT(wires=[0,1])\n",
    "    qml.CNOT(wires=[1,0])\n",
    "    qml.CNOT(wires=[0,1])\n",
    "    # IMPLEMENT THE SWAP GATE USING A SEQUENCE OF CNOTS\n",
    "\n",
    "    return qml.state()\n",
    "\n",
    "\n",
    "print(f\"Regular SWAP state = {apply_swap(phi, theta, omega)}\")\n",
    "print(f\"CNOT SWAP state = {apply_swap_with_cnots(phi, theta, omega)}\")\n"
   ]
  },
  {
   "cell_type": "code",
   "execution_count": null,
   "id": "90ea80aa",
   "metadata": {},
   "outputs": [],
   "source": [
    "dev = qml.device(\"default.qubit\", wires=3)\n",
    "\n",
    "# Prepare first qubit in |1>, and arbitrary states on the second two qubits\n",
    "phi, theta, omega = 1.2, 2.3, 3.4\n",
    "\n",
    "\n",
    "# A helper function just so you can visualize the initial state\n",
    "# before the controlled SWAP occurs.\n",
    "@qml.qnode(dev)\n",
    "def no_swap(phi, theta, omega):\n",
    "    prepare_states(phi, theta, omega)\n",
    "    return qml.state()\n",
    "\n",
    "\n",
    "@qml.qnode(dev)\n",
    "def controlled_swap(phi, theta, omega):\n",
    "    prepare_states(phi, theta, omega)\n",
    "    \n",
    "    ##################\n",
    "    # YOUR CODE HERE #\n",
    "    ##################\n",
    "\n",
    "    # PERFORM A CONTROLLED SWAP USING A SEQUENCE OF TOFFOLIS\n",
    "    qml.Toffoli(wires=[0, 1, 2])\n",
    "    qml.Toffoli(wires=[0, 2, 1])\n",
    "    qml.Toffoli(wires=[0, 1, 2])\n",
    "    # qml.Toffoli(wires=[control1, control2, target])\n",
    "    return qml.state()\n",
    "\n",
    "\n",
    "print(no_swap(phi, theta, omega))\n",
    "print(controlled_swap(phi, theta, omega))\n"
   ]
  },
  {
   "cell_type": "code",
   "execution_count": null,
   "id": "9ca3fe7b",
   "metadata": {},
   "outputs": [],
   "source": []
  }
 ],
 "metadata": {
  "kernelspec": {
   "display_name": "Python 3 (ipykernel)",
   "language": "python",
   "name": "python3"
  },
  "language_info": {
   "codemirror_mode": {
    "name": "ipython",
    "version": 3
   },
   "file_extension": ".py",
   "mimetype": "text/x-python",
   "name": "python",
   "nbconvert_exporter": "python",
   "pygments_lexer": "ipython3",
   "version": "3.9.12"
  }
 },
 "nbformat": 4,
 "nbformat_minor": 5
}

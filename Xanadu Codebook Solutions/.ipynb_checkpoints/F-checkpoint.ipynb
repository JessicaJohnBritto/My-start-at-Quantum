{
 "cells": [
  {
   "cell_type": "code",
   "execution_count": 1,
   "id": "9060d85d",
   "metadata": {},
   "outputs": [],
   "source": [
    "import pennylane as qml\n",
    "from pennylane import numpy as np\n",
    "import matplotlib.pyplot as plt"
   ]
  },
  {
   "cell_type": "markdown",
   "id": "3ec2b5a0",
   "metadata": {},
   "source": [
    "# F.1"
   ]
  },
  {
   "cell_type": "code",
   "execution_count": 2,
   "id": "75de60b7",
   "metadata": {},
   "outputs": [
    {
     "name": "stdout",
     "output_type": "stream",
     "text": [
      "[10.+0.j  2.-2.j  2.+0.j  2.+2.j]\n"
     ]
    }
   ],
   "source": [
    "def coefficients_to_values(coefficients):\n",
    "    \"\"\"Returns the value representation of a polynomial\n",
    "    \n",
    "    Args:\n",
    "        coefficients (array[complex]): a 1-D array of complex \n",
    "            coefficients of a polynomial with \n",
    "            index i representing the i-th degree coefficient\n",
    "\n",
    "    Returns: \n",
    "        array[complex]: the value representation of the \n",
    "            polynomial \n",
    "    \"\"\"\n",
    "    ##################\n",
    "    # YOUR CODE HERE #\n",
    "    ################## \n",
    "    \n",
    "    # pass\n",
    "    return np.fft.fft(coefficients)\n",
    "\n",
    "A = [4, 3, 2, 1]\n",
    "print(coefficients_to_values(A))\n"
   ]
  },
  {
   "cell_type": "code",
   "execution_count": 3,
   "id": "993c84bc",
   "metadata": {},
   "outputs": [
    {
     "name": "stdout",
     "output_type": "stream",
     "text": [
      "[4.+0.j 3.+0.j 2.+0.j 1.+0.j]\n"
     ]
    }
   ],
   "source": [
    "def values_to_coefficients(values):\n",
    "    \"\"\"Returns the coefficient representation of a polynomial\n",
    "    \n",
    "    Args:\n",
    "        values (array[complex]): a 1-D complex array with \n",
    "            the value representation of a polynomial \n",
    "\n",
    "    Returns: \n",
    "        array[complex]: a 1-D complex array of coefficients\n",
    "    \"\"\"\n",
    "    \n",
    "    ##################\n",
    "    # YOUR CODE HERE #\n",
    "    ################## \n",
    "    return np.fft.ifft(values)\n",
    "\n",
    "\n",
    "A = [10.+0.j,  2.-2.j,  2.+0.j,  2.+2.j]\n",
    "print(values_to_coefficients(A))\n"
   ]
  },
  {
   "cell_type": "code",
   "execution_count": 9,
   "id": "5f2cfe8f",
   "metadata": {},
   "outputs": [
    {
     "data": {
      "text/plain": [
       "8"
      ]
     },
     "execution_count": 9,
     "metadata": {},
     "output_type": "execute_result"
    }
   ],
   "source": [
    "def nearest_power_of_2(x):\n",
    "    \"\"\"Given an integer, return the nearest power of 2. \n",
    "    \n",
    "    Args:\n",
    "        x (int): a positive integer\n",
    "\n",
    "    Returns: \n",
    "        int: the nearest power of 2 of x\n",
    "    \"\"\"\n",
    "    ##################\n",
    "    # YOUR CODE HERE #\n",
    "    ################## \n",
    "    # k = np.log2(x)\n",
    "    \n",
    "    k = np.ceil(np.log2(x))\n",
    "    return (2**(int(k)))\n",
    "nearest_power_of_2(7)"
   ]
  },
  {
   "cell_type": "code",
   "execution_count": 42,
   "id": "3bfd36f7",
   "metadata": {},
   "outputs": [
    {
     "data": {
      "text/plain": [
       "tensor([ 1.+0.j,  0.+0.j, -1.+0.j,  0.+0.j], requires_grad=True)"
      ]
     },
     "execution_count": 42,
     "metadata": {},
     "output_type": "execute_result"
    }
   ],
   "source": [
    "def fft_multiplication(poly_a, poly_b):\n",
    "    \"\"\"Returns the result of multiplying two polynomials\n",
    "    \n",
    "    Args:\n",
    "        poly_a (array[complex]): 1-D array of coefficients \n",
    "        poly_b (array[complex]): 1-D array of coefficients \n",
    "\n",
    "    Returns: \n",
    "        array[complex]: complex coefficients of the product\n",
    "            of the polynomials\n",
    "    \"\"\"\n",
    "    ##################\n",
    "    # YOUR CODE HERE #\n",
    "    ################## \n",
    "    # len(poly_b) = b\n",
    "    # len(poly_a) = a\n",
    "    b = len(poly_b)\n",
    "#     print(b)\n",
    "    a = len(poly_a) \n",
    "#     print(a)\n",
    "    b = b-1\n",
    "    a= a-1\n",
    "    # Calculate the number of values required\n",
    "    nn = a + b + 1\n",
    "    # Figure out the nearest power of 2\n",
    "    n = nearest_power_of_2(nn)\n",
    "    # print(n)\n",
    "    # Pad zeros to the polynomial\n",
    "    # if a<n:\n",
    "    poly_a = np.pad(poly_a, (0,n-len(poly_a)))\n",
    "    # if b<n:\n",
    "    poly_b = np.pad(poly_b, (0,n-len(poly_b)))\n",
    "    # Convert the polynomials to value representation \n",
    "    aa = coefficients_to_values(poly_a)\n",
    "    bb = coefficients_to_values(poly_b)\n",
    "#     print(a)\n",
    "#     print(b)\n",
    "    # Multiply\n",
    "    m = aa*bb\n",
    "    # Convert back to coefficient representation\n",
    "    res = values_to_coefficients(m)\n",
    "#     final = np.zeros((a+b))\n",
    "#     final = []\n",
    "#     for i in range(a+b):\n",
    "#         final[i] = res[i]\n",
    "    return res\n",
    "A = np.array([1,1])\n",
    "B = np.array([1,-1])\n",
    "fft_multiplication(A, B)"
   ]
  },
  {
   "cell_type": "markdown",
   "id": "8c9cee7c",
   "metadata": {},
   "source": [
    "# F.2"
   ]
  },
  {
   "cell_type": "code",
   "execution_count": 43,
   "id": "7704ff76",
   "metadata": {},
   "outputs": [],
   "source": [
    "dev = qml.device(\"default.qubit\", wires=1)\n",
    "\n",
    "@qml.qnode(dev)\n",
    "def one_qubit_QFT(basis_id):\n",
    "    \"\"\"A circuit that computes the QFT on a single qubit. \n",
    "    \n",
    "    Args:\n",
    "        basis_id (int): An integer value identifying \n",
    "            the basis state to construct.\n",
    "    \n",
    "    Returns:\n",
    "        array[complex]: The state of the qubit after applying QFT.\n",
    "    \"\"\"\n",
    "    # Prepare the basis state |basis_id>\n",
    "    bits = [int(x) for x in np.binary_repr(basis_id, width=dev.num_wires)]\n",
    "    qml.BasisStatePreparation(bits, wires=[0])\n",
    "\n",
    "    ##################\n",
    "    # YOUR CODE HERE #\n",
    "    ##################\n",
    "    qml.Hadamard(wires=0)\n",
    "    return qml.state()\n"
   ]
  },
  {
   "cell_type": "code",
   "execution_count": 44,
   "id": "34cf2228",
   "metadata": {},
   "outputs": [],
   "source": [
    "n_bits = 2\n",
    "dev = qml.device(\"default.qubit\", wires=n_bits)\n",
    "\n",
    "@qml.qnode(dev)\n",
    "def two_qubit_QFT(basis_id):\n",
    "    \"\"\"A circuit that computes the QFT on two qubits using qml.QubitUnitary. \n",
    "    \n",
    "    Args:\n",
    "        basis_id (int): An integer value identifying the basis state to construct.\n",
    "    \n",
    "    Returns:\n",
    "        array[complex]: The state of the qubits after the QFT operation.\n",
    "    \"\"\"\n",
    "    \n",
    "    # Prepare the basis state |basis_id>\n",
    "    bits = [int(x) for x in np.binary_repr(basis_id, width=dev.num_wires)]\n",
    "    qml.BasisStatePreparation(bits, wires=[0, 1])\n",
    "    \n",
    "    ##################\n",
    "    # YOUR CODE HERE #\n",
    "    ##################\n",
    "    U = 0.5*(np.array([[1,1,1,1], [1, complex(0,1), -1, complex(0,-1)], [1, -1, 1, -1], [1, complex(0,-1), -1, complex(0,1)]]))\n",
    "    qml.QubitUnitary(U, wires=[0,1])\n",
    "    return qml.state()\n"
   ]
  },
  {
   "cell_type": "code",
   "execution_count": 3,
   "id": "f4c093cb",
   "metadata": {},
   "outputs": [],
   "source": [
    "dev = qml.device(\"default.qubit\", wires=2)\n",
    "\n",
    "@qml.qnode(dev)\n",
    "def decompose_two_qubit_QFT(basis_id):\n",
    "    \"\"\"A circuit that computes the QFT on two qubits using elementary gates.\n",
    "    \n",
    "    Args:\n",
    "        basis_id (int): An integer value identifying the basis state to construct.\n",
    "    \n",
    "    Returns:\n",
    "        array[complex]: The state of the qubits after the QFT operation.\n",
    "    \"\"\"\n",
    "    # Prepare the basis state |basis_id>\n",
    "    bits = [int(x) for x in np.binary_repr(basis_id, width=dev.num_wires)]\n",
    "    qml.BasisStatePreparation(bits, wires=[0, 1])\n",
    "    \n",
    "    ##################\n",
    "    # YOUR CODE HERE #\n",
    "    ##################\n",
    "    qml.Hadamard(wires=0)\n",
    "    qml.ctrl(qml.S, control=1)(wires=0)\n",
    "    qml.Hadamard(wires=1)\n",
    "    qml.SWAP(wires=[0,1])\n",
    "    # pass\n",
    "    return qml.state()\n"
   ]
  },
  {
   "cell_type": "markdown",
   "id": "d7aa2135",
   "metadata": {},
   "source": [
    "# F.3"
   ]
  },
  {
   "cell_type": "code",
   "execution_count": 2,
   "id": "8ca87e75",
   "metadata": {},
   "outputs": [
    {
     "name": "stdout",
     "output_type": "stream",
     "text": [
      "0: ─╭BasisStatePreparation(M0)──H─╭Rϕ(1.57)─╭Rϕ(0.79)─────────────────╭SWAP─┤  State\n",
      "1: ─├BasisStatePreparation(M0)────╰●────────│──────────H─╭Rϕ(0.79)────│─────┤  State\n",
      "2: ─╰BasisStatePreparation(M0)──────────────╰●───────────╰●─────────H─╰SWAP─┤  State\n"
     ]
    }
   ],
   "source": [
    "dev = qml.device(\"default.qubit\", wires=3)\n",
    "\n",
    "@qml.qnode(dev)\n",
    "def three_qubit_QFT(basis_id):\n",
    "    \"\"\"A circuit that computes the QFT on three qubits.\n",
    "    \n",
    "    Args:\n",
    "        basis_id (int): An integer value identifying the basis state to construct.\n",
    "        \n",
    "    Returns:\n",
    "        array[complex]: The state of the qubits after the QFT operation.\n",
    "    \"\"\"\n",
    "    # Prepare the basis state |basis_id>\n",
    "    bits = [int(x) for x in np.binary_repr(basis_id, width=dev.num_wires)]\n",
    "    qml.BasisStatePreparation(bits, wires=[0, 1, 2])\n",
    "    ##################\n",
    "    # YOUR CODE HERE #\n",
    "    ################## \n",
    "    for i in range(3):\n",
    "        # j=i+1\n",
    "        # print(\"test1\")\n",
    "        qml.Hadamard(wires=i)\n",
    "        for jj in range(i+1,3,1):\n",
    "            # print(\"test2\")\n",
    "#             k = (1/(2**(jj)))*(np.pi)*(complex(0,1))\n",
    "#             U = np.array([[1,0], [0, np.exp(k)]])\n",
    "#             qml.ctrl(qml.QubitUnitary(U, wires=i), control=jj)\n",
    "            # Below lines of code give the same result as the above one\n",
    "            k = (1/(2**(jj)))*(np.pi)                    \n",
    "            qml.ctrl(qml.PhaseShift(k, wires=i), control = jj)\n",
    "    qml.SWAP(wires=[0,2])\n",
    "    return qml.state()\n",
    "print(qml.draw(three_qubit_QFT)(3))"
   ]
  },
  {
   "cell_type": "code",
   "execution_count": 3,
   "id": "65a46bc8",
   "metadata": {},
   "outputs": [],
   "source": [
    "dev = qml.device('default.qubit', wires=4)\n",
    "\n",
    "            \n",
    "def swap_bits(n_qubits):\n",
    "    \"\"\"A circuit that reverses the order of qubits, i.e.,\n",
    "    performs a SWAP such that [q1, q2, ..., qn] -> [qn, ... q2, q1].\n",
    "    \n",
    "    Args:\n",
    "        n_qubits (int): An integer value identifying the number of qubits.\n",
    "    \"\"\"\n",
    "    ##################\n",
    "    # YOUR CODE HERE #\n",
    "    ##################\n",
    "    # if n%2==0:\n",
    "    # j = \n",
    "    for i in range(int(n_qubits/2)):\n",
    "        qml.SWAP(wires=[i,n_qubits-1-i])\n",
    "    # pass\n",
    "\n",
    "@qml.qnode(dev) \n",
    "def qft_node(basis_id, n_qubits):\n",
    "    # Prepare the basis state |basis_id>\n",
    "    bits = [int(x) for x in np.binary_repr(basis_id, width=n_qubits)]\n",
    "    qml.BasisStatePreparation(bits, wires=range(n_qubits))\n",
    "    # qft_rotations(n_qubits)\n",
    "    swap_bits(n_qubits)\n",
    "    return qml.state()\n"
   ]
  },
  {
   "cell_type": "code",
   "execution_count": 4,
   "id": "23d9a0e6",
   "metadata": {},
   "outputs": [
    {
     "name": "stdout",
     "output_type": "stream",
     "text": [
      "0: ─╭BasisStatePreparation(M0)──H─╭Rϕ(1.57)─╭Rϕ(0.79)─────────────────╭SWAP─┤  State\n",
      "1: ─├BasisStatePreparation(M0)────╰●────────│──────────H─╭Rϕ(1.57)────│─────┤  State\n",
      "2: ─╰BasisStatePreparation(M0)──────────────╰●───────────╰●─────────H─╰SWAP─┤  State\n"
     ]
    }
   ],
   "source": [
    "dev = qml.device('default.qubit', wires=4)\n",
    "# @qml.qnode(dev) \n",
    "def qft_rotations(n_qubits):\n",
    "    \"\"\"A circuit performs the QFT rotations on the specified qubits.\n",
    "    \n",
    "    Args:\n",
    "        n_qubits (int): An integer value identifying the number of qubits.\n",
    "    \"\"\"\n",
    "    \n",
    "    ##################\n",
    "    # YOUR CODE HERE #\n",
    "    ################## \n",
    "    n = n_qubits\n",
    "    for i in range(n):\n",
    "        # j=i+1\n",
    "        # print(\"test1\")\n",
    "        qml.Hadamard(wires=i)\n",
    "        for jj in range(i+1,n,1):\n",
    "            # print(\"test2\")\n",
    "            qml.ControlledPhaseShift(np.pi/(2**(jj-i)), wires=[jj,i])\n",
    "    pass\n",
    "\n",
    "@qml.qnode(dev) \n",
    "def qft_node(basis_id, n_qubits):\n",
    "    # Prepare the basis state |basis_id>\n",
    "    bits = [int(x) for x in np.binary_repr(basis_id, width=n_qubits)]\n",
    "    qml.BasisStatePreparation(bits, wires=range(n_qubits))\n",
    "    qft_rotations(n_qubits)\n",
    "    swap_bits(n_qubits)\n",
    "    return qml.state()\n",
    "\n",
    "# print(qml.draw(qft_rotations)(3))\n",
    "print(qml.draw(qft_node)(3,3))\n"
   ]
  },
  {
   "cell_type": "code",
   "execution_count": 8,
   "id": "dc71a582",
   "metadata": {},
   "outputs": [
    {
     "name": "stdout",
     "output_type": "stream",
     "text": [
      "0: ─╭BasisStatePreparation(M0)──H─╭Rϕ(1.57)─╭Rϕ(0.79)─────────────────╭SWAP─┤  State\n",
      "1: ─├BasisStatePreparation(M0)────╰●────────│──────────H─╭Rϕ(1.57)────│─────┤  State\n",
      "2: ─╰BasisStatePreparation(M0)──────────────╰●───────────╰●─────────H─╰SWAP─┤  State\n"
     ]
    }
   ],
   "source": [
    "dev = qml.device('default.qubit', wires=4)\n",
    "\n",
    "def qft_recursive_rotations(n_qubits, wire=0):\n",
    "    \"\"\"A circuit that performs the QFT rotations on the specified qubits\n",
    "        recursively.\n",
    "        \n",
    "    Args:\n",
    "        n_qubits (int): An integer value identifying the number of qubits.\n",
    "        wire (int): An integer identifying the wire \n",
    "                    (or the qubit) to apply rotations on.\n",
    "    \"\"\"\n",
    "\n",
    "    ##################\n",
    "    # YOUR CODE HERE #\n",
    "    ################## \n",
    "    i = wire\n",
    "    if i == n_qubits-1:\n",
    "        qml.Hadamard(wires=i)\n",
    "#     for i in range(n_qubits):\n",
    "#         qml.Hadamard(wires=i)\n",
    "#         if n_qubits!=i:\n",
    "    else:\n",
    "        qml.Hadamard(wires=i)\n",
    "        for j in range(i+1, n_qubits, 1):\n",
    "            qml.ControlledPhaseShift(np.pi/(2**(j-i)), wires=[j,i])\n",
    "        qft_recursive_rotations(n_qubits, i+1)\n",
    "    pass\n",
    "\n",
    "@qml.qnode(dev) \n",
    "def qft_node(basis_id, n_qubits):\n",
    "    # Prepare the basis state |basis_id>\n",
    "    bits = [int(x) for x in np.binary_repr(basis_id, width=n_qubits)]\n",
    "    qml.BasisStatePreparation(bits, wires=range(n_qubits))\n",
    "    qft_recursive_rotations(n_qubits)\n",
    "    swap_bits(n_qubits)\n",
    "    return qml.state()\n",
    "print(qml.draw(qft_node)(3,3))"
   ]
  }
 ],
 "metadata": {
  "kernelspec": {
   "display_name": "Python 3 (ipykernel)",
   "language": "python",
   "name": "python3"
  },
  "language_info": {
   "codemirror_mode": {
    "name": "ipython",
    "version": 3
   },
   "file_extension": ".py",
   "mimetype": "text/x-python",
   "name": "python",
   "nbconvert_exporter": "python",
   "pygments_lexer": "ipython3",
   "version": "3.9.12"
  }
 },
 "nbformat": 4,
 "nbformat_minor": 5
}

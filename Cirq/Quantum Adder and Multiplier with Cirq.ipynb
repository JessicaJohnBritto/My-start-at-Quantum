{
 "cells": [
  {
   "cell_type": "markdown",
   "id": "a9671274",
   "metadata": {},
   "source": [
    "# QFT, QAdder and QMultiplier Functions"
   ]
  },
  {
   "cell_type": "code",
   "execution_count": 1,
   "id": "8651040c",
   "metadata": {},
   "outputs": [],
   "source": [
    "## Importing Packages\n",
    "\n",
    "import cirq \n",
    "import numpy as np\n",
    "from cirq.contrib.svg import SVGCircuit\n",
    "import matplotlib.pyplot as plt"
   ]
  },
  {
   "cell_type": "code",
   "execution_count": 52,
   "id": "c59676c4",
   "metadata": {},
   "outputs": [],
   "source": [
    "## Defining QFT and Inverse QFT\n",
    "\n",
    "def qft_rotations(n_qubits):\n",
    "    \"\"\"A circuit performs the QFT rotations on the specified qubits.\n",
    "    \n",
    "    Args:\n",
    "        n_qubits (list): List of qubits.\n",
    "    \"\"\"\n",
    "    n = len(n_qubits)\n",
    "    for i in range(n):\n",
    "        k = 0\n",
    "        yield cirq.H(n_qubits[i])\n",
    "        for jj in range(i+1,n,1):\n",
    "            k = k+1\n",
    "            yield (cirq.CZ ** (1/(2**(k))))(n_qubits[jj], n_qubits[i])\n",
    "    pass\n",
    "\n",
    "def inverse_qft(n_qubits):\n",
    "    \"\"\"A circuit performs the inverse of QFT rotations on the specified qubits.\n",
    "    \n",
    "    Args:\n",
    "        n_qubits (list): List of qubits.\n",
    "    \"\"\"\n",
    "    n = len(n_qubits)\n",
    "    n_qubits1 = np.flip(n_qubits)\n",
    "    for i in range(n):\n",
    "        k = 0\n",
    "        yield cirq.H(n_qubits1[i])\n",
    "        for jj in range(i+1,n,1):\n",
    "            k = k+1\n",
    "            yield (cirq.CZ ** (-1/(2**(k))))(n_qubits1[jj], n_qubits1[i])"
   ]
  },
  {
   "cell_type": "code",
   "execution_count": 53,
   "id": "d1fd542b",
   "metadata": {},
   "outputs": [],
   "source": [
    "# \"\"\"Visually check the inverse QFT circuit.\"\"\"\n",
    "# qubits = cirq.LineQubit.range(4)\n",
    "# qft = cirq.Circuit(inverse_qft(qubits))\n",
    "# SVGCircuit(qft)"
   ]
  },
  {
   "cell_type": "code",
   "execution_count": 54,
   "id": "bc4cb42c",
   "metadata": {
    "scrolled": true
   },
   "outputs": [
    {
     "data": {
      "text/plain": [
       "array([[ 0.5+0.j ,  0.5+0.j ,  0.5+0.j ,  0.5+0.j ],\n",
       "       [ 0.5+0.j , -0.5+0.j ,  0.5+0.j , -0.5+0.j ],\n",
       "       [ 0.5+0.j ,  0. +0.5j, -0.5+0.j ,  0. -0.5j],\n",
       "       [ 0.5+0.j ,  0. -0.5j, -0.5+0.j ,  0. +0.5j]])"
      ]
     },
     "execution_count": 54,
     "metadata": {},
     "output_type": "execute_result"
    }
   ],
   "source": [
    "\"\"\"Visually check the QFT circuit.\"\"\"\n",
    "qubits = cirq.LineQubit.range(2)\n",
    "qft = cirq.Circuit(qft_rotations(qubits))\n",
    "SVGCircuit(qft)\n",
    "cirq.unitary(qft)"
   ]
  },
  {
   "cell_type": "code",
   "execution_count": 106,
   "id": "9563999b",
   "metadata": {},
   "outputs": [],
   "source": [
    "#Defining Quantum Adder\n",
    "\n",
    "def quantum_adder(n_qubits):\n",
    "    ''' A circuit performs addition of two numbers \n",
    "    \n",
    "    Args:\n",
    "        n_qubits (list): list of qubits representing the binary representation of ('binary(a)'+'binary(b)').\n",
    "    '''\n",
    "    n = len(n_qubits)\n",
    "    # Appending the first half of the qubits to list - kk\n",
    "    kk =[n_qubits[i] for i in range(0, int(len(n_qubits)/2),1)]\n",
    "    # Perfoms QFT on the first half of the qubits, i.e, on the first number\n",
    "    yield qft_rotations(kk)\n",
    "    for i in range(0,int(n/2),1):\n",
    "        k=0\n",
    "        for j in range(i+int(n/2),(n),1):\n",
    "            yield (cirq.CZ ** (1/(2**(k))))(n_qubits[j], n_qubits[i])\n",
    "            k+=1\n",
    "    yield inverse_qft(kk)"
   ]
  },
  {
   "cell_type": "code",
   "execution_count": 107,
   "id": "2582e9a6",
   "metadata": {},
   "outputs": [
    {
     "name": "stdout",
     "output_type": "stream",
     "text": [
      "Enter the first number: 6\n",
      "Enter the second number: 9\n",
      "15\n"
     ]
    }
   ],
   "source": [
    "circuit = cirq.Circuit()\n",
    "# Inputting the two integers in a and b\n",
    "a = int(input(\"Enter the first number: \"))\n",
    "b = int(input(\"Enter the second number: \"))\n",
    "c = max(len(np.binary_repr(a)), len(np.binary_repr(b))) + 1\n",
    "a_bit = np.binary_repr(a, width = c)\n",
    "b_bit = np.binary_repr(b, width = c)\n",
    "# Combined form of binary(a) and binary(b)\n",
    "c1 = a_bit+b_bit\n",
    "qubits = cirq.LineQubit.range(len(c1))\n",
    "# Preparing Basis State for c1 by applying X-gate on the qubit corresponding to the index of c1 being 1\n",
    "circuit.append(cirq.X(qubits[i]) for i in range(len(c1)) if c1[i]=='1')\n",
    "circuit.append(quantum_adder(qubits))\n",
    "# Measuring the first half of the qubits\n",
    "k = [qubits[i] for i in range(0, int(len(qubits)/2),1)]\n",
    "circuit.append(cirq.measure(k, key = 'ab'))\n",
    "simulator = cirq.Simulator()\n",
    "result = simulator.run(circuit, repetitions=1)\n",
    "# print(result.data)\n",
    "c = result.histogram(key=\"ab\")\n",
    "# Retrieving the result from Counter\n",
    "print(list(c)[0])\n",
    "\n",
    "# print(cirq.ResultDict('ab'))\n",
    "# cirq.plot_state_histogram(result)\n",
    "# SVGCircuit(circuit)"
   ]
  },
  {
   "cell_type": "code",
   "execution_count": 113,
   "id": "fcc2e255",
   "metadata": {},
   "outputs": [],
   "source": [
    "def quantum_multiplier(n_qubits):\n",
    "    ''' A circuit performs multiplication of two numbers \n",
    "    \n",
    "    Args:\n",
    "        n_qubits (list): list of qubits representing the binary representation of ('binary(a)'+'binary(b)').\n",
    "    '''\n",
    "    n = len(n_qubits)\n",
    "    # Appending the first half of the qubits to list - kk\n",
    "    kk =[n_qubits[i] for i in range(0, int(len(n_qubits)/2),1)]\n",
    "    # Perfoms QFT on the first half of the qubits, i.e, on the first number\n",
    "    yield qft_rotations(kk)\n",
    "    for i in range(int(3*n/4), n,1):\n",
    "        for j in range(int(n/2), int(3*n/4),1):\n",
    "            for m in range(int(n/2)):\n",
    "                yield (cirq.CCZ ** (1/(2**(-(5*n/4)-m+j+i+1))))(n_qubits[j], n_qubits[i], n_qubits[m])\n",
    "    yield inverse_qft(kk)\n",
    "    pass"
   ]
  },
  {
   "cell_type": "code",
   "execution_count": 114,
   "id": "76a74a20",
   "metadata": {},
   "outputs": [
    {
     "name": "stdout",
     "output_type": "stream",
     "text": [
      "Enter the first number: 5\n",
      "Enter the second number: 6\n",
      "30\n"
     ]
    }
   ],
   "source": [
    "circuit = cirq.Circuit()\n",
    "# Inputting the two integers in a and b\n",
    "a = int(input(\"Enter the first number: \"))\n",
    "b = int(input(\"Enter the second number: \"))\n",
    "c = max(len(np.binary_repr(a)), len(np.binary_repr(b))) + 1\n",
    "a1 = np.binary_repr(0, width = 2*c)\n",
    "a_bit = np.binary_repr(a, width = c)\n",
    "b_bit = np.binary_repr(b, width = c)\n",
    "# Combined form of binary(0), binary(a) and binary(b)\n",
    "c1 = a1 + a_bit+b_bit\n",
    "qubits = cirq.LineQubit.range(len(c1))\n",
    "# Preparing Basis State for c1 by applying X-gate on the qubit corresponding to the index of c1 being 1\n",
    "circuit.append(cirq.X(qubits[i]) for i in range(len(c1)) if c1[i]=='1')\n",
    "circuit.append(quantum_multiplier(qubits))\n",
    "k = [qubits[i] for i in range(0, int(len(qubits)/2),1)]\n",
    "# Measuring the first half of the qubits\n",
    "circuit.append(cirq.measure(k, key = 'ab'))\n",
    "simulator = cirq.Simulator()\n",
    "result = simulator.run(circuit, repetitions=1)\n",
    "# print(result.data)\n",
    "c = result.histogram(key=\"ab\")\n",
    "# Retrieving the result from Counter\n",
    "print(list(c)[0])\n",
    "# SVGCircuit(circuit)"
   ]
  },
  {
   "cell_type": "markdown",
   "id": "4a433259",
   "metadata": {},
   "source": [
    "# Simulating with simulate() and run() method"
   ]
  },
  {
   "cell_type": "code",
   "execution_count": 115,
   "id": "eaf2a37d",
   "metadata": {},
   "outputs": [],
   "source": [
    "# a = 3\n",
    "# b = 2\n",
    "# a_bit = np.binary_repr(a)\n",
    "# # print(a_bit)\n",
    "# b_bit = np.binary_repr(b)\n",
    "# # print(a_bit+ b_bit)\n",
    "# c = a_bit+b_bit\n",
    "# print(c)\n",
    "# qubits = cirq.LineQubit.range(len(c))\n",
    "# # print(k,f,g,h)\n",
    "# circuit = cirq.Circuit(quantum_adder(qubits))\n",
    "# SVGCircuit(circuit)\n",
    "# state2 = cirq.Simulator().simulate(circuit, initial_state=1110).state_vector()\n",
    "# print(state2)\n",
    "# print(cirq.dirac_notation(state2))\n",
    "# circuit.append(cirq.measure(qubits))\n",
    "# simulator = cirq.Simulator()\n",
    "# result = simulator.run(circuit, repetitions=2)\n",
    "# print(result)\n",
    "# SVGCircuit(circuit)"
   ]
  },
  {
   "cell_type": "code",
   "execution_count": 116,
   "id": "44290006",
   "metadata": {},
   "outputs": [],
   "source": [
    "# k = cirq.big_endian_int_to_bits(3, bit_count = 4)\n",
    "# print(k)"
   ]
  },
  {
   "cell_type": "code",
   "execution_count": 117,
   "id": "0c8dc251",
   "metadata": {},
   "outputs": [],
   "source": [
    "# for i in range(len(qubits)):\n",
    "#     qubits[i] = np.pad(np.array([k[i]]), (2*len(qubits)-1,0))"
   ]
  },
  {
   "cell_type": "markdown",
   "id": "7236d3a1",
   "metadata": {},
   "source": [
    "# Making Custom Gates"
   ]
  },
  {
   "cell_type": "code",
   "execution_count": 2,
   "id": "09dbb8de",
   "metadata": {},
   "outputs": [],
   "source": [
    "class MyGate(cirq.Gate):\n",
    "    def _init_(self):\n",
    "        super(MyGate, self)\n",
    "        \n",
    "    def _num_qubits_(self):\n",
    "        return 1\n",
    "    def _circuit_diagram_info_(self, args):\n",
    "        return \"MyGate\""
   ]
  },
  {
   "cell_type": "code",
   "execution_count": 3,
   "id": "4be614db",
   "metadata": {},
   "outputs": [],
   "source": [
    "class MyGate(cirq.Gate):\n",
    "    def _init_(self):\n",
    "        super(MyGate, self)\n",
    "        \n",
    "    def _num_qubits_(self):\n",
    "        return 1\n",
    "    \n",
    "    def _unitary_(self):\n",
    "        return np.array([[1,0], [0,1]])\n",
    "    \n",
    "    def _circuit_diagram_info_(self, args):\n",
    "        return \"MyGate\""
   ]
  },
  {
   "cell_type": "code",
   "execution_count": 4,
   "id": "3194d715",
   "metadata": {},
   "outputs": [
    {
     "data": {
      "image/svg+xml": [
       "<svg xmlns=\"http://www.w3.org/2000/svg\" width=\"237.3941015625\" height=\"50.0\"><line x1=\"30.0\" x2=\"207.3941015625\" y1=\"25.0\" y2=\"25.0\" stroke=\"#1967d2\" stroke-width=\"1\" /><rect x=\"10.0\" y=\"5.0\" width=\"40\" height=\"40\" stroke=\"black\" fill=\"white\" stroke-width=\"0\" /><text x=\"30.0\" y=\"25.0\" dominant-baseline=\"middle\" text-anchor=\"middle\" font-size=\"14px\" font-family=\"Arial\">0: </text><rect x=\"70.0\" y=\"5.0\" width=\"40\" height=\"40\" stroke=\"black\" fill=\"white\" stroke-width=\"1\" /><text x=\"90.0\" y=\"25.0\" dominant-baseline=\"middle\" text-anchor=\"middle\" font-size=\"18px\" font-family=\"Arial\">H</text><rect x=\"130.0\" y=\"5.0\" width=\"57.3941015625\" height=\"40\" stroke=\"black\" fill=\"white\" stroke-width=\"1\" /><text x=\"158.69705078125\" y=\"25.0\" dominant-baseline=\"middle\" text-anchor=\"middle\" font-size=\"14px\" font-family=\"Arial\">MyGate</text></svg>"
      ],
      "text/plain": [
       "<cirq.contrib.svg.svg.SVGCircuit at 0x17fa7826760>"
      ]
     },
     "execution_count": 4,
     "metadata": {},
     "output_type": "execute_result"
    }
   ],
   "source": [
    "mygate = MyGate()\n",
    "\n",
    "qubits = cirq.LineQubit(0)\n",
    "circuit = cirq.Circuit([cirq.H(qubits), mygate(qubits)])\n",
    "SVGCircuit(circuit)"
   ]
  },
  {
   "cell_type": "code",
   "execution_count": 36,
   "id": "41d72b04",
   "metadata": {},
   "outputs": [],
   "source": [
    "class MG(cirq.Gate):\n",
    "    def __init__(self, k):\n",
    "        super(MG, self)\n",
    "        self.k = k\n",
    "    \n",
    "    def _num_qubits_(self):\n",
    "        return 2\n",
    "    \n",
    "    def _unitary_(self):\n",
    "        return np.array([[1,0,0,0],\n",
    "                         [0,1,0,0],\n",
    "                         [0,0,1,0],\n",
    "                        [0,0,0, np.sin(self.k)]])\n",
    "    \n",
    "    def _circuit_diagram_info_(self, args):\n",
    "        return \"ctrl\", f\"R({self.k})\""
   ]
  },
  {
   "cell_type": "code",
   "execution_count": 40,
   "id": "4f92bd15",
   "metadata": {},
   "outputs": [
    {
     "data": {
      "image/svg+xml": [
       "<svg xmlns=\"http://www.w3.org/2000/svg\" width=\"276.296171875\" height=\"100.0\"><line x1=\"30.0\" x2=\"246.296171875\" y1=\"25.0\" y2=\"25.0\" stroke=\"#1967d2\" stroke-width=\"1\" /><line x1=\"30.0\" x2=\"246.296171875\" y1=\"75.0\" y2=\"75.0\" stroke=\"#1967d2\" stroke-width=\"1\" /><line x1=\"148.1480859375\" x2=\"148.1480859375\" y1=\"25.0\" y2=\"75.0\" stroke=\"black\" stroke-width=\"3\" /><rect x=\"10.0\" y=\"5.0\" width=\"40\" height=\"40\" stroke=\"black\" fill=\"white\" stroke-width=\"0\" /><text x=\"30.0\" y=\"25.0\" dominant-baseline=\"middle\" text-anchor=\"middle\" font-size=\"14px\" font-family=\"Arial\">0: </text><rect x=\"10.0\" y=\"55.0\" width=\"40\" height=\"40\" stroke=\"black\" fill=\"white\" stroke-width=\"0\" /><text x=\"30.0\" y=\"75.0\" dominant-baseline=\"middle\" text-anchor=\"middle\" font-size=\"14px\" font-family=\"Arial\">1: </text><rect x=\"70.00000000000001\" y=\"5.0\" width=\"156.296171875\" height=\"40\" stroke=\"black\" fill=\"white\" stroke-width=\"1\" /><text x=\"148.1480859375\" y=\"25.0\" dominant-baseline=\"middle\" text-anchor=\"middle\" font-size=\"14px\" font-family=\"Arial\">ctrl</text><rect x=\"70.00000000000001\" y=\"55.0\" width=\"156.296171875\" height=\"40\" stroke=\"black\" fill=\"white\" stroke-width=\"1\" /><text x=\"148.1480859375\" y=\"75.0\" dominant-baseline=\"middle\" text-anchor=\"middle\" font-size=\"14px\" font-family=\"Arial\">R(3.141592653589793)</text></svg>"
      ],
      "text/plain": [
       "<cirq.contrib.svg.svg.SVGCircuit at 0x17fa9a7ea00>"
      ]
     },
     "execution_count": 40,
     "metadata": {},
     "output_type": "execute_result"
    }
   ],
   "source": [
    "mg = MG(k=np.pi)\n",
    "qubits = cirq.LineQubit.range(2)\n",
    "circuit = cirq.Circuit(mg(*qubits))\n",
    "\n",
    "SVGCircuit(circuit)"
   ]
  },
  {
   "cell_type": "code",
   "execution_count": 38,
   "id": "3e124846",
   "metadata": {},
   "outputs": [
    {
     "data": {
      "text/plain": [
       "array([[1.0000000e+00+0.j, 0.0000000e+00+0.j, 0.0000000e+00+0.j,\n",
       "        0.0000000e+00+0.j],\n",
       "       [0.0000000e+00+0.j, 1.0000000e+00+0.j, 0.0000000e+00+0.j,\n",
       "        0.0000000e+00+0.j],\n",
       "       [0.0000000e+00+0.j, 0.0000000e+00+0.j, 1.0000000e+00+0.j,\n",
       "        0.0000000e+00+0.j],\n",
       "       [0.0000000e+00+0.j, 0.0000000e+00+0.j, 0.0000000e+00+0.j,\n",
       "        1.2246468e-16+0.j]])"
      ]
     },
     "execution_count": 38,
     "metadata": {},
     "output_type": "execute_result"
    }
   ],
   "source": [
    "cirq.unitary(circuit)"
   ]
  },
  {
   "cell_type": "code",
   "execution_count": 63,
   "id": "1a00b44f",
   "metadata": {},
   "outputs": [],
   "source": [
    "## QFT gate\n",
    "class QFT(cirq.Gate):\n",
    "    def __init__(self, n_qubits):\n",
    "        super(QFT, self)\n",
    "        self.n_qubits = n_qubits\n",
    "        \n",
    "\n",
    "    def _num_qubits_(self):\n",
    "        return self.n_qubits\n",
    "\n",
    "    def _decompose_(self, n_qubits):\n",
    "        n = len(n_qubits)\n",
    "        for i in range(n):\n",
    "            k = 0\n",
    "            yield cirq.H(n_qubits[i])\n",
    "            for jj in range(i+1,n,1):\n",
    "                k = k+1\n",
    "                yield (cirq.CZ ** (1/(2**(k))))(n_qubits[jj], n_qubits[i])\n",
    "\n",
    "    def _circuit_diagram_info_(self, args):\n",
    "        return [\"QFT\"] * self.num_qubits()\n",
    "    \n",
    "# qubits = cirq.LineQubit.range(2)\n",
    "# circuit = cirq.Circuit(QFT(n_qubits = 2).on(*qubits))\n",
    "# SVGCircuit(circuit)\n",
    "# cirq.unitary(circuit)"
   ]
  },
  {
   "cell_type": "code",
   "execution_count": 71,
   "id": "328e468e",
   "metadata": {},
   "outputs": [],
   "source": [
    "## Quantum Multiplier gate\n",
    "\n",
    "class qmulti(cirq.Gate):\n",
    "    def __init__(self, n_qubits):\n",
    "        super(qmulti, self)\n",
    "        self.n_qubits = n_qubits\n",
    "        \n",
    "\n",
    "    def _num_qubits_(self):\n",
    "        return self.n_qubits\n",
    "    \n",
    "    def _decompose_(self, n_qubits):\n",
    "        n = len(n_qubits)\n",
    "        kk =[n_qubits[i] for i in range(0, int(len(n_qubits)/2),1)]\n",
    "        yield QFT(n_qubits = int(n/2)).on(*kk)\n",
    "        for i in range(int(3*n/4), n, 1):\n",
    "            for j in range(int(n/2), int(3*n/4),1):\n",
    "                for m in range(int(n/2)):\n",
    "                    yield (cirq.CCZ ** (1/(2**(-(5*n/4)-m+j+i+1))))(n_qubits[j], n_qubits[i], n_qubits[m])\n",
    "        yield cirq.inverse(QFT(n_qubits = int(n/2)).on(*kk))\n",
    "    \n",
    "    def _circuit_diagram_info_(self, args):\n",
    "        return [\"QMultiplier\"] * self.num_qubits()"
   ]
  },
  {
   "cell_type": "code",
   "execution_count": 72,
   "id": "4d1b6c65",
   "metadata": {},
   "outputs": [
    {
     "name": "stdout",
     "output_type": "stream",
     "text": [
      "Enter the first number: 2\n",
      "Enter the second number: 3\n",
      "6\n"
     ]
    }
   ],
   "source": [
    "circuit = cirq.Circuit()\n",
    "# Inputting the two integers in a and b\n",
    "a = int(input(\"Enter the first number: \"))\n",
    "b = int(input(\"Enter the second number: \"))\n",
    "c = max(len(np.binary_repr(a)), len(np.binary_repr(b))) + 1\n",
    "a1 = np.binary_repr(0, width = 2*c)\n",
    "a_bit = np.binary_repr(a, width = c)\n",
    "b_bit = np.binary_repr(b, width = c)\n",
    "# Combined form of binary(0), binary(a) and binary(b)\n",
    "c1 = a1 + a_bit+b_bit\n",
    "qubits = cirq.LineQubit.range(len(c1))\n",
    "# Preparing Basis State for c1 by applying X-gate on the qubit corresponding to the index of c1 being 1\n",
    "circuit.append(cirq.X(qubits[i]) for i in range(len(c1)) if c1[i]=='1')\n",
    "circuit.append(qmulti(n_qubits = len(qubits)).on(*qubits))\n",
    "k = [qubits[i] for i in range(0, int(len(qubits)/2),1)]\n",
    "# Measuring the first half of the qubits\n",
    "circuit.append(cirq.measure(k, key = 'ab'))\n",
    "simulator = cirq.Simulator()\n",
    "result = simulator.run(circuit, repetitions=1)\n",
    "c = result.histogram(key=\"ab\")\n",
    "# Retrieving the result from Counter\n",
    "print(list(c)[0])"
   ]
  }
 ],
 "metadata": {
  "kernelspec": {
   "display_name": "Python 3 (ipykernel)",
   "language": "python",
   "name": "python3"
  },
  "language_info": {
   "codemirror_mode": {
    "name": "ipython",
    "version": 3
   },
   "file_extension": ".py",
   "mimetype": "text/x-python",
   "name": "python",
   "nbconvert_exporter": "python",
   "pygments_lexer": "ipython3",
   "version": "3.9.12"
  }
 },
 "nbformat": 4,
 "nbformat_minor": 5
}

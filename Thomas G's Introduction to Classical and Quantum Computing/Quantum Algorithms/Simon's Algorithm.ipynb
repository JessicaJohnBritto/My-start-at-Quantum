{
 "cells": [
  {
   "cell_type": "code",
   "execution_count": 17,
   "id": "ef12ab92",
   "metadata": {},
   "outputs": [],
   "source": [
    "# Importing Packages\n",
    "from qiskit import IBMQ, Aer\n",
    "from qiskit.providers.ibmq import least_busy\n",
    "from qiskit import QuantumCircuit, transpile, assemble, QuantumRegister, ClassicalRegister\n",
    "from qiskit.visualization import plot_histogram\n",
    "from qiskit_textbook.tools import simon_oracle\n",
    "\n",
    "# #initialization\n",
    "# import numpy as np\n",
    "# import matplotlib.pyplot as plt\n",
    "# %matplotlib inline\n",
    "\n",
    "# # importing Qiskit\n",
    "# from qiskit import Aer, IBMQ\n",
    "# from qiskit import QuantumCircuit, ClassicalRegister, QuantumRegister\n",
    "# from qiskit import execute, get_backend, compile\n",
    "# from qiskit.wrapper.jupyter import *\n",
    "\n",
    "# # import basic plot tools\n",
    "# from qiskit.tools.visualization import plot_histogram"
   ]
  },
  {
   "cell_type": "code",
   "execution_count": 24,
   "id": "eb228408",
   "metadata": {},
   "outputs": [
    {
     "name": "stdout",
     "output_type": "stream",
     "text": [
      "Enter the input string:\n",
      "10\n"
     ]
    }
   ],
   "source": [
    "s =  input(\"Enter the input string:\\n\")"
   ]
  },
  {
   "cell_type": "code",
   "execution_count": 6,
   "id": "ddbb49dd",
   "metadata": {},
   "outputs": [],
   "source": [
    "# n = len(s)\n",
    "# # creating quantum circuit\n",
    "# q1=QuantumRegister(n,'q1')\n",
    "# q2=QuantumRegister(n,'q2')\n",
    "# c1=ClassicalRegister(n)\n",
    "# qc = QuantumCircuit(q1,q2,c1)\n",
    "# qc.h(q1)\n",
    "# qc.barrier()\n",
    "# # qc.cx(q1, q2)\n",
    "# # qc.barrier()\n",
    "# # l=list(range(n))\n",
    "# # print(l)\n",
    "# # for k in range(n):\n",
    "# #     if s[k]==\"1\":\n",
    "# qc.cx(q1[0],q2[0])\n",
    "# qc.cx(q1[0],q2[1])\n",
    "# qc.cx(q1[0],q2[2])\n",
    "\n",
    "# qc.barrier()\n",
    "# qc.cx(q1[2],q2[0])\n",
    "# qc.cx(q1[2],q2[1])\n",
    "# qc.cx(q1[2],q2[2])\n",
    "# qc.barrier()\n",
    "# qc.measure(q2,c1)\n",
    "# qc.h(q1)\n",
    "# qc.barrier()\n",
    "# qc.measure(q1,c1)\n",
    "\n",
    "# # q1 = QuantumRegister(n,'q1')\n",
    "# # q2 = QuantumRegister(n,'q2')\n",
    "# # c1 = ClassicalRegister(n)\n",
    "# # qc = QuantumCircuit (q1, q2, c1)\n",
    "# # # applying H-gate on qubits of first register\n",
    "# # qc.h(q1)\n",
    "# # qc.barrier()\n",
    "# # # copying the data of first register to second register\n",
    "# # qc.cx(q1, q2)\n",
    "# # qc.barrier()\n",
    "# # # applying bit wise X-OR from register 1 to register 2 where qubits of first register is 1\n",
    "# # qc.cx(q1[0],q2[0])\n",
    "# # qc.cx(q1[0],q2[2])\n",
    "# # qc.barrier()\n",
    "# # # measuring qubits of second register\n",
    "# # qc.measure(q2,c1)\n",
    "# # # applying H-gate to qubits of first register\n",
    "# # qc.h(q1)\n",
    "# # qc.barrier()\n",
    "# # # measuring qubits of first register\n",
    "# # qc.measure(q1, c1)\n",
    "# qc.draw()\n",
    "# qc.draw(output=\"mpl\")"
   ]
  },
  {
   "cell_type": "code",
   "execution_count": 7,
   "id": "c0bc05e5",
   "metadata": {},
   "outputs": [],
   "source": [
    "# # running the circuit using \"qasm simulator\"\n",
    "# qasm_sim = Aer.get_backend(\"qasm_simulator\")\n",
    "# job = assemble(qc,qasm_sim)\n",
    "# result = qasm_sim.run(job).result()\n",
    "# con = result.get_counts()\n",
    "# print(con)\n",
    "# plot_histogram(con)"
   ]
  },
  {
   "cell_type": "code",
   "execution_count": 25,
   "id": "4bb35f71",
   "metadata": {},
   "outputs": [
    {
     "data": {
      "text/plain": [
       "<qiskit.circuit.instructionset.InstructionSet at 0x182ff54f740>"
      ]
     },
     "execution_count": 25,
     "metadata": {},
     "output_type": "execute_result"
    }
   ],
   "source": [
    "# Step 1\n",
    "# Creating registers\n",
    "# qubits for querying the oracle and recording its output\n",
    "n=len(s)\n",
    "qr = QuantumRegister(2*n)\n",
    "# for recording the measurement on the first register of qr\n",
    "cr = ClassicalRegister(n)\n",
    "\n",
    "circuitName = \"Simon\"\n",
    "simonCircuit = QuantumCircuit(qr, cr)\n",
    "\n",
    "# Step 2\n",
    "# Apply Hadamard gates before querying the oracle\n",
    "for i in range(n):\n",
    "    simonCircuit.h(qr[i])\n",
    "\n",
    "# Apply barrier to mark the beginning of the blackbox function\n",
    "simonCircuit.barrier()"
   ]
  },
  {
   "cell_type": "code",
   "execution_count": 26,
   "id": "fe8e8205",
   "metadata": {},
   "outputs": [
    {
     "data": {
      "text/plain": [
       "<qiskit.circuit.instructionset.InstructionSet at 0x182ff7ac480>"
      ]
     },
     "execution_count": 26,
     "metadata": {},
     "output_type": "execute_result"
    }
   ],
   "source": [
    "# Step 3 query the blackbox function\n",
    "# copy the content of the first register to the second register\n",
    "for i in range(n):\n",
    "    simonCircuit.cx(qr[i], qr[n+i])\n",
    "\n",
    "# get the least index j such that s_j is \"1\"\n",
    "j = -1\n",
    "for i, c in enumerate(s):\n",
    "    if c == \"1\":\n",
    "        j = i\n",
    "        break\n",
    "\n",
    "# Creating 1-to-1 or 2-to-1 mapping with the j-th qubit of x as control to XOR the second register with s\n",
    "for i, c in enumerate(s):\n",
    "    if c == \"1\" and j >= 0:\n",
    "        simonCircuit.cx(qr[j], qr[n+i]) #the i-th qubit is flipped if s_i is 1\n",
    "\n",
    "# get random permutation of n qubits\n",
    "perm = list(np.random.permutation(n))\n",
    "\n",
    "#initial position\n",
    "init = list(range(n))\n",
    "i = 0\n",
    "while i < n:\n",
    "    if init[i] != perm[i]:\n",
    "        k = perm.index(init[i])\n",
    "        simonCircuit.swap(qr[n+i], qr[n+k]) #swap qubits\n",
    "        init[i], init[k] = init[k], init[i] #marked swapped qubits\n",
    "    else:\n",
    "        i += 1\n",
    "        \n",
    "# randomly flip the qubit\n",
    "for i in range(n):\n",
    "    if np.random.random() > 0.5:\n",
    "        simonCircuit.x(qr[n+i])\n",
    "\n",
    "# Apply the barrier to mark the end of the blackbox function\n",
    "simonCircuit.barrier()"
   ]
  },
  {
   "cell_type": "code",
   "execution_count": 27,
   "id": "6a6f3182",
   "metadata": {},
   "outputs": [
    {
     "data": {
      "image/png": "[encoded data removed]",
      "text/plain": [
       "<Figure size 701.869x325.08 with 1 Axes>"
      ]
     },
     "execution_count": 27,
     "metadata": {},
     "output_type": "execute_result"
    }
   ],
   "source": [
    "# Step 4 apply Hadamard gates to the first register\n",
    "for i in range(n):\n",
    "    simonCircuit.h(qr[i])\n",
    "    \n",
    "# Step 5 perform measurement on the first register\n",
    "for i in range(n):\n",
    "    simonCircuit.measure(qr[i], cr[i])\n",
    "\n",
    "#draw the circuit\n",
    "from qiskit.tools.visualization import circuit_drawer\n",
    "circuit_drawer(simonCircuit)\n",
    "simonCircuit.draw(output=\"mpl\")"
   ]
  },
  {
   "cell_type": "code",
   "execution_count": 28,
   "id": "458b4939",
   "metadata": {},
   "outputs": [
    {
     "name": "stdout",
     "output_type": "stream",
     "text": [
      "{'10': 551, '00': 473}\n"
     ]
    },
    {
     "data": {
      "image/png": "[encoded data removed]",
      "text/plain": [
       "<Figure size 504x360 with 1 Axes>"
      ]
     },
     "execution_count": 28,
     "metadata": {},
     "output_type": "execute_result"
    }
   ],
   "source": [
    "# # use local simulator\n",
    "# backend = Aer.get_backend(\"qasm_simulator\")\n",
    "# # the number of shots is twice the length of the bitstring\n",
    "# shots = 1024\n",
    "# job = execute(simonCircuit, backend=backend, shots=shots)\n",
    "# answer = job.result().get_counts()\n",
    "\n",
    "# plot_histogram(answer)\n",
    "\n",
    "# running the circuit using \"qasm simulator\"\n",
    "qasm_sim = Aer.get_backend(\"qasm_simulator\")\n",
    "job = assemble(simonCircuit,qasm_sim)\n",
    "result = qasm_sim.run(job).result()\n",
    "con = result.get_counts()\n",
    "print(con)\n",
    "plot_histogram(con)"
   ]
  },
  {
   "cell_type": "code",
   "execution_count": 36,
   "id": "fec43d5b",
   "metadata": {},
   "outputs": [
    {
     "name": "stderr",
     "output_type": "stream",
     "text": [
      "C:\\Users\\barbi\\AppData\\Local\\Temp\\ipykernel_14192\\2530187037.py:21: DeprecationWarning: The QuantumCircuit.__iadd__() method is being deprecated. Use the compose() (potentially with the inplace=True argument) and tensor() methods which are more flexible w.r.t circuit register compatibility.\n",
      "  simon_circuit += simon_oracle(b)\n"
     ]
    },
    {
     "data": {
      "image/png": "[encoded data removed]",
      "text/plain": [
       "<Figure size 688.597x325.08 with 1 Axes>"
      ]
     },
     "execution_count": 36,
     "metadata": {},
     "output_type": "execute_result"
    }
   ],
   "source": [
    "# importing Qiskit\n",
    "from qiskit import IBMQ, Aer\n",
    "from qiskit.providers.ibmq import least_busy\n",
    "from qiskit import QuantumCircuit, transpile, assemble\n",
    "\n",
    "# import basic plot tools\n",
    "from qiskit.visualization import plot_histogram\n",
    "from qiskit_textbook.tools import simon_oracle\n",
    "\n",
    "b = '11'\n",
    "\n",
    "n = len(b)\n",
    "simon_circuit = QuantumCircuit(n*2, n)\n",
    "\n",
    "# Apply Hadamard gates before querying the oracle\n",
    "simon_circuit.h(range(n))    \n",
    "    \n",
    "# Apply barrier for visual separation\n",
    "simon_circuit.barrier()\n",
    "\n",
    "simon_circuit += simon_oracle(b)\n",
    "\n",
    "# Apply barrier for visual separation\n",
    "simon_circuit.barrier()\n",
    "\n",
    "# Apply Hadamard gates to the input register\n",
    "simon_circuit.h(range(n))\n",
    "\n",
    "# Measure qubits\n",
    "simon_circuit.measure(range(n), range(n))\n",
    "simon_circuit.draw(output=\"mpl\")"
   ]
  },
  {
   "cell_type": "code",
   "execution_count": 37,
   "id": "613f8a9b",
   "metadata": {},
   "outputs": [
    {
     "data": {
      "image/png": "[encoded data removed]",
      "text/plain": [
       "<Figure size 504x360 with 1 Axes>"
      ]
     },
     "execution_count": 37,
     "metadata": {},
     "output_type": "execute_result"
    }
   ],
   "source": [
    "# use local simulator\n",
    "aer_sim = Aer.get_backend('aer_simulator')\n",
    "shots = 1024\n",
    "qobj = assemble(simon_circuit, shots=shots)\n",
    "results = aer_sim.run(qobj).result()\n",
    "counts = results.get_counts()\n",
    "plot_histogram(counts)"
   ]
  },
  {
   "cell_type": "code",
   "execution_count": 35,
   "id": "1b2fe007",
   "metadata": {},
   "outputs": [
    {
     "name": "stdout",
     "output_type": "stream",
     "text": [
      "01.10 = 0 (mod 2)\n",
      "01.00 = 0 (mod 2)\n"
     ]
    }
   ],
   "source": [
    "# Calculate the dot product of the results\n",
    "def bdotz(b, z):\n",
    "    accum = 0\n",
    "    for i in range(len(b)):\n",
    "        accum += int(b[i]) * int(z[i])\n",
    "    return (accum % 2)\n",
    "\n",
    "for z in counts:\n",
    "    print( '{}.{} = {} (mod 2)'.format(b, z, bdotz(b,z)) )"
   ]
  },
  {
   "cell_type": "markdown",
   "id": "a2cc8f42",
   "metadata": {},
   "source": [
    "# References\n",
    "[Medium Article by Mr. Asif](https://medium.com/codex/implementing-simons-algorithm-in-qiskit-9155ce6a9527)\n",
    "\n",
    "[Notebook.community](https://notebook.community/antoniomezzacapo/qiskit-tutorial/community/algorithms/simon_algorithm)\n",
    "\n",
    "[Qiskit Simon Source Code](https://qiskit.org/documentation/stable/0.19/_modules/qiskit/aqua/algorithms/education/simon.html#Simon)\n",
    "\n",
    "[QuantuC](https://www.youtube.com/watch?v=7hYQzIHhDXA)\n",
    "\n",
    "[QC Stackexchange-1](https://quantumcomputing.stackexchange.com/questions/6586/coding-an-oracle-for-simons-algorithm?rq=1)\n",
    "\n",
    "[QC Stackexchange-2](https://quantumcomputing.stackexchange.com/questions/15567/in-simons-algorithm-is-there-a-general-method-to-define-an-oracle-given-a-cert)"
   ]
  },
  {
   "cell_type": "code",
   "execution_count": null,
   "id": "cb076b6d",
   "metadata": {},
   "outputs": [],
   "source": []
  }
 ],
 "metadata": {
  "kernelspec": {
   "display_name": "Python 3 (ipykernel)",
   "language": "python",
   "name": "python3"
  },
  "language_info": {
   "codemirror_mode": {
    "name": "ipython",
    "version": 3
   },
   "file_extension": ".py",
   "mimetype": "text/x-python",
   "name": "python",
   "nbconvert_exporter": "python",
   "pygments_lexer": "ipython3",
   "version": "3.9.12"
  }
 },
 "nbformat": 4,
 "nbformat_minor": 5
}
